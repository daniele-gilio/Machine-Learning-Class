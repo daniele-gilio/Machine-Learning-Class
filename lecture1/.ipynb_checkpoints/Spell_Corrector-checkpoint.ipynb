{
 "cells": [
  {
   "cell_type": "code",
   "execution_count": 1,
   "metadata": {},
   "outputs": [],
   "source": [
    "#Code to get the word from terminal, obviously not used in this Notebook\n",
    "#import sys\n",
    "#word=sys.argv[0]"
   ]
  },
  {
   "cell_type": "code",
   "execution_count": 2,
   "metadata": {
    "scrolled": false
   },
   "outputs": [
    {
     "name": "stdout",
     "output_type": "stream",
     "text": [
      "[(0.00021268793790460801, 'for'), (0.0001132002925732252, 'or'), (1.465529852294189e-05, 'go'), (8.730926518269451e-06, 'nor'), (8.730926518269451e-06, 'got')]\n"
     ]
    }
   ],
   "source": [
    "import math\n",
    "#from scipy.stats import binom\n",
    "\n",
    "def read_words(filename):\n",
    "    f=open(filename)\n",
    "    counters = {} #initialize empty dictionary\n",
    "    tot=0\n",
    "    for line in f: #iterate over the lines of the file\n",
    "        for word in line.lower().split(): #convert to lower case and split lines\n",
    "            if word.isalpha(): #check if the split word contains something other than letters\n",
    "                if word in counters:\n",
    "                    counters[word]+=1\n",
    "                else:\n",
    "                    counters[word]=1\n",
    "                tot+=1\n",
    "    f.close()\n",
    "    priors={}\n",
    "    for word in counters:\n",
    "        priors[word]=counters[word]/tot #compute the relative frequency of each word P(C)\n",
    "    return priors\n",
    "            \n",
    "DICT=read_words(\"big.txt\")\n",
    "\n",
    "def bcoeff(n,k):\n",
    "    if(n-k>0):\n",
    "        den=math.factorial(k)*math.factorial(n-k) \n",
    "        return math.factorial(n)//den #binomial coefficient\n",
    "    else:\n",
    "        return 0 #allow for the number of errors to exceed the lenght of the word without raising errors\n",
    "\n",
    "def binomial(n,k,p):\n",
    "    return bcoeff(n,k)*(p**k)*((1.-p)**(n-k)) #return binomial distribution value\n",
    "\n",
    "def edit1(word): #function to tell the reachable words with 1 error given an input word\n",
    "    n=len(word)\n",
    "    letters = \"abcdefghijklmnopqrstuvwxyz\"\n",
    "    var=set() #set removes duplicates, so we use it in place of a list\n",
    "    for i in range(n+1):\n",
    "        #Insertion\n",
    "        for l in letters:\n",
    "            nword=word[:i]+l+word[i:]\n",
    "            var.add(nword)\n",
    "            #Substitution of a letter\n",
    "            if i<n:\n",
    "                nword=word[:i]+l+word[(i+1):]\n",
    "                var.add(nword)\n",
    "        #Deletion\n",
    "        if i<n:\n",
    "            nword=word[:i]+word[(i+1):]\n",
    "            var.add(nword)\n",
    "        #Consecutive Letters Flip\n",
    "        if i+1<n:\n",
    "            nword=word[:i]+word[i+1]+word[i]+word[(i+2):]\n",
    "            var.add(nword)\n",
    "    return var\n",
    "\n",
    "def nedit(word,n): #function to tell the reachable words with 1 error given an input word\n",
    "    var={word}\n",
    "    for _ in range(n): #_ is used to indicate an unused variable\n",
    "        nvar=set()\n",
    "        for v in var:\n",
    "            nvar|=edit1(v)\n",
    "        var=nvar\n",
    "    return var\n",
    "\n",
    "word=\"gor\"\n",
    "#print(len(nedit(word,3)))\n",
    "\n",
    "def correct_word(word, maxerrors, p, top): #top stand for the number of candidates\n",
    "    candidates=[]\n",
    "    for e in range(maxerrors+1):\n",
    "        var=nedit(word,e)\n",
    "        for c in var:\n",
    "            if c in DICT:\n",
    "                p_c=DICT[c]\n",
    "                p_wc=binomial(len(c), e, p)\n",
    "                score = p_c*p_wc\n",
    "                candidates.append((score,c))\n",
    "    candidates.sort(reverse=True)\n",
    "    return candidates[:top]\n",
    "\n",
    "candidates = correct_word(word,3,0.01,5)\n",
    "print(candidates)\n",
    "#print(DICTIONARY)"
   ]
  },
  {
   "cell_type": "code",
   "execution_count": null,
   "metadata": {},
   "outputs": [],
   "source": []
  },
  {
   "cell_type": "code",
   "execution_count": null,
   "metadata": {},
   "outputs": [],
   "source": []
  }
 ],
 "metadata": {
  "kernelspec": {
   "display_name": "Python 3",
   "language": "python",
   "name": "python3"
  },
  "language_info": {
   "codemirror_mode": {
    "name": "ipython",
    "version": 3
   },
   "file_extension": ".py",
   "mimetype": "text/x-python",
   "name": "python",
   "nbconvert_exporter": "python",
   "pygments_lexer": "ipython3",
   "version": "3.7.6"
  }
 },
 "nbformat": 4,
 "nbformat_minor": 4
}
