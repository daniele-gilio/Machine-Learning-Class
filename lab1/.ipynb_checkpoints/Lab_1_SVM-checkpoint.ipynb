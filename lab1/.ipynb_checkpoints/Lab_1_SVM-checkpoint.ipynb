{
 "cells": [
  {
   "cell_type": "code",
   "execution_count": 5,
   "metadata": {},
   "outputs": [
    {
     "name": "stdout",
     "output_type": "stream",
     "text": [
      "Training Accuracy:  77.64\n",
      "Validation Accuracy:  77.60000000000001\n",
      "Test Accuracy:  77.232\n"
     ]
    }
   ],
   "source": [
    "from pvml import svm\n",
    "import numpy as np\n",
    "\n",
    "\n",
    "n=1000\n",
    "train_name= \"train_\" + str(n)\n",
    "test_name=\"test_\" + str(n)\n",
    "val_name=\"val_\" + str(n)\n",
    "train_data=np.loadtxt(train_name+\".gz\", dtype=np.int32)\n",
    "val_data=np.loadtxt(val_name + \".gz\", dtype=np.int32)\n",
    "test_data=np.loadtxt(test_name + \".gz\", dtype=np.int32)"
   ]
  },
  {
   "cell_type": "code",
   "execution_count": 7,
   "metadata": {},
   "outputs": [
    {
     "name": "stdout",
     "output_type": "stream",
     "text": [
      "Training Accuracy:  81.768\n",
      "Validation Accuracy:  81.47999999999999\n",
      "Test Accuracy:  81.416\n"
     ]
    }
   ],
   "source": [
    "X=train_data[:,:-1]\n",
    "Y=train_data[:,-1]\n",
    "\n",
    "w,b=svm.svm_train(X,Y, lambda_=0., steps=5000)\n",
    "#print(b)\n",
    "labels,scores=svm.svm_inference(X,w,b)\n",
    "accuracy=(labels==Y).mean()*100\n",
    "print(\"Training Accuracy: \", accuracy)\n",
    "\n",
    "X=val_data[:,:-1]\n",
    "Y=val_data[:,-1]\n",
    "labels,logits=svm.svm_inference(X,w,b)\n",
    "accuracy=(labels==Y).mean()*100\n",
    "print(\"Validation Accuracy: \", accuracy)\n",
    "\n",
    "X=test_data[:,:-1]\n",
    "Y=test_data[:,-1]\n",
    "labels,scores=svm.svm_inference(X,w,b)\n",
    "accuracy=(labels==Y).mean()*100\n",
    "print(\"Test Accuracy: \", accuracy)"
   ]
  },
  {
   "cell_type": "code",
   "execution_count": 8,
   "metadata": {},
   "outputs": [
    {
     "name": "stdout",
     "output_type": "stream",
     "text": [
      "Training Accuracy:  79.38\n",
      "Validation Accuracy:  78.99199999999999\n",
      "Test Accuracy:  79.048\n"
     ]
    }
   ],
   "source": [
    "from pvml import logistic_regression as lg\n",
    "\n",
    "X=train_data[:,:-1]\n",
    "Y=train_data[:,-1]\n",
    "w,b=lg.logreg_train(X,Y, steps=5000)\n",
    "#print(b)\n",
    "train_prob=lg.logreg_inference(X,w,b)\n",
    "train_pred=np.asarray(train_prob>0.5)\n",
    "accuracy=(train_pred==Y).mean()*100\n",
    "print(\"Training Accuracy: \", accuracy)\n",
    "\n",
    "X=val_data[:,:-1]\n",
    "Y=val_data[:,-1]\n",
    "val_prob=lg.logreg_inference(X,w,b)\n",
    "val_pred=np.asarray(val_prob>0.5)\n",
    "accuracy=(val_pred==Y).mean()*100\n",
    "print(\"Validation Accuracy: \", accuracy)\n",
    "\n",
    "X=test_data[:,:-1]\n",
    "Y=test_data[:,-1]\n",
    "test_prob=lg.logreg_inference(X,w,b)\n",
    "test_pred=np.asarray(test_prob>0.5)\n",
    "accuracy=(test_pred==Y).mean()*100\n",
    "print(\"Test Accuracy: \", accuracy)"
   ]
  },
  {
   "cell_type": "code",
   "execution_count": null,
   "metadata": {},
   "outputs": [],
   "source": []
  }
 ],
 "metadata": {
  "kernelspec": {
   "display_name": "Python 3",
   "language": "python",
   "name": "python3"
  },
  "language_info": {
   "codemirror_mode": {
    "name": "ipython",
    "version": 3
   },
   "file_extension": ".py",
   "mimetype": "text/x-python",
   "name": "python",
   "nbconvert_exporter": "python",
   "pygments_lexer": "ipython3",
   "version": "3.7.6"
  }
 },
 "nbformat": 4,
 "nbformat_minor": 4
}
