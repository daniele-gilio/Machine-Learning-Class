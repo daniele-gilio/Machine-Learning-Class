{
 "cells": [
  {
   "cell_type": "code",
   "execution_count": 1,
   "metadata": {},
   "outputs": [],
   "source": [
    "from pvml import naivebayes as nb\n",
    "import numpy as np\n",
    "from collections import Counter as counter\n",
    "import glob"
   ]
  },
  {
   "cell_type": "code",
   "execution_count": 2,
   "metadata": {
    "scrolled": false
   },
   "outputs": [],
   "source": [
    "def read_file(flist):\n",
    "    k=[]\n",
    "    p=\"!\\\"#$&'()*+,-./:;<=>?@[\\\\]^_{|}~\"\n",
    "    table=str.maketrans(p, \" \" * len(p))\n",
    "    for f in flist:\n",
    "        f=open(f, \"r\")\n",
    "        for line in f:\n",
    "            line=line.translate(table)\n",
    "            for word in line.split():\n",
    "                if len(word)>2: \n",
    "                    k.append(word.lower())\n",
    "    f.close()\n",
    "    return k\n",
    "\n",
    "def file_list(path, pn): #pn stands for positive/negative\n",
    "    files = [f for f in glob.glob(path + \"/\" + pn + \"**/*.txt\", recursive=True)]\n",
    "    return files\n",
    "\n",
    "def build_dict(path, n, save):\n",
    "    fl=file_list(path, \"\")\n",
    "    words=read_file(fl)\n",
    "    dic=sorted(counter(words).most_common(n))\n",
    "    if save==False:\n",
    "        return dic\n",
    "    else:\n",
    "        f=open(\"vocabulary.txt\", \"w\")\n",
    "        for w in [word for word, word_count in dic]:\n",
    "            f.write(str(w)+\"\\n\")\n",
    "        f.close()\n",
    "        \n",
    "\n",
    "train_path=\"aclImdb/train\"\n",
    "n=1000\n",
    "build_dict(train_path,n,True)"
   ]
  },
  {
   "cell_type": "code",
   "execution_count": 3,
   "metadata": {},
   "outputs": [],
   "source": [
    "def build_bow(path,save, fname):\n",
    "    f=open(\"vocabulary.txt\", \"r\")\n",
    "    nfl=file_list(path, \"neg\")\n",
    "    pfl=file_list(path, \"pos\")\n",
    "    n=0\n",
    "    doc=0\n",
    "    voc={}\n",
    "    dic=[]\n",
    "    for w in f.read().split():\n",
    "        voc[w]=n\n",
    "        dic.append(w)\n",
    "        n+=1\n",
    "    f.close()\n",
    "    p=\"!\\\"#$&'()*+,-./:;<=>?@[\\\\]^_{|}~\"\n",
    "    table=str.maketrans(p, \" \" * len(p))\n",
    "    matrix=np.zeros((len(nfl)+len(pfl), n+1))\n",
    "    for f in nfl:\n",
    "        f=open(f, \"r\")\n",
    "        for line in f:\n",
    "            line=line.translate(table)\n",
    "            for w in line.split():\n",
    "                if w in dic:\n",
    "                    matrix[doc][voc[w]]+=1\n",
    "        f.close()\n",
    "        matrix[doc][n]=0\n",
    "        doc+=1\n",
    "    for f in pfl:\n",
    "        f=open(f, \"r\")\n",
    "        for line in f:\n",
    "            line=line.translate(table)\n",
    "            for w in line.split():\n",
    "                if w in dic:\n",
    "                    matrix[doc][voc[w]]+=1\n",
    "        f.close()\n",
    "        matrix[doc][n]=1\n",
    "        doc+=1\n",
    "    if save==False:\n",
    "        return np.concatenate(nmatrix,pmatrix,0)\n",
    "    else:\n",
    "        np.savetxt(fname+\".gz\", matrix.astype(np.int32))"
   ]
  },
  {
   "cell_type": "code",
   "execution_count": 4,
   "metadata": {},
   "outputs": [],
   "source": [
    "val_path=\"aclImdb/validation\"\n",
    "test_path=\"aclImdb/test\"\n",
    "build_bow(train_path, True, \"train\")\n",
    "build_bow(test_path, True, \"test\")\n",
    "build_bow(val_path, True, \"val\")"
   ]
  },
  {
   "cell_type": "code",
   "execution_count": 5,
   "metadata": {},
   "outputs": [],
   "source": [
    "train_data=np.loadtxt(\"train.gz\", dtype=np.int32)\n",
    "X=train_data[:,:-1]\n",
    "Y=train_data[:,-1]"
   ]
  },
  {
   "cell_type": "code",
   "execution_count": 6,
   "metadata": {},
   "outputs": [
    {
     "name": "stdout",
     "output_type": "stream",
     "text": [
      "Training Accuracy:  81.708\n",
      "Validation Accuracy:  81.696\n",
      "Test Accuracy:  81.75200000000001\n"
     ]
    }
   ],
   "source": [
    "w,b=nb.multinomial_naive_bayes_train(X,Y)\n",
    "#print(b)\n",
    "labels,scores=nb.multinomial_naive_bayes_inference(X,w,b)\n",
    "accuracy=(labels==Y).mean()*100\n",
    "print(\"Training Accuracy: \", accuracy)\n",
    "\n",
    "val_data=np.loadtxt(\"val.gz\", dtype=np.int32)\n",
    "X=val_data[:,:-1]\n",
    "Y=val_data[:,-1]\n",
    "labels,scores=nb.multinomial_naive_bayes_inference(X,w,b)\n",
    "accuracy=(labels==Y).mean()*100\n",
    "print(\"Validation Accuracy: \", accuracy)\n",
    "\n",
    "test_data=np.loadtxt(\"test.gz\", dtype=np.int32)\n",
    "X=test_data[:,:-1]\n",
    "Y=test_data[:,-1]\n",
    "labels,scores=nb.multinomial_naive_bayes_inference(X,w,b)\n",
    "accuracy=(labels==Y).mean()*100\n",
    "print(\"Test Accuracy: \", accuracy)"
   ]
  },
  {
   "cell_type": "code",
   "execution_count": null,
   "metadata": {},
   "outputs": [],
   "source": []
  }
 ],
 "metadata": {
  "kernelspec": {
   "display_name": "Python 3",
   "language": "python",
   "name": "python3"
  },
  "language_info": {
   "codemirror_mode": {
    "name": "ipython",
    "version": 3
   },
   "file_extension": ".py",
   "mimetype": "text/x-python",
   "name": "python",
   "nbconvert_exporter": "python",
   "pygments_lexer": "ipython3",
   "version": "3.7.6"
  }
 },
 "nbformat": 4,
 "nbformat_minor": 4
}
