{
 "cells": [
  {
   "cell_type": "code",
   "execution_count": 70,
   "metadata": {},
   "outputs": [],
   "source": [
    "from pvml import naivebayes as nb\n",
    "import numpy\n",
    "from collections import Counter as counter\n",
    "import glob\n",
    "import re"
   ]
  },
  {
   "cell_type": "code",
   "execution_count": 96,
   "metadata": {
    "scrolled": false
   },
   "outputs": [
    {
     "name": "stdout",
     "output_type": "stream",
     "text": [
      "None\n"
     ]
    }
   ],
   "source": [
    "def read_file(flist):\n",
    "    k=[]\n",
    "    for f in flist:\n",
    "        f=open(f, \"r\")\n",
    "        for line in f:\n",
    "            #for word in re.split('; |, |\\s|\\n|<br|/>|--',line): #fancy splitting \n",
    "            for word in line.split():\n",
    "                k.append(word)\n",
    "    return k\n",
    "\n",
    "def file_list(path, pn): #pn stands for positive/negative\n",
    "    files = [f for f in glob.glob(path + \"/\" + pn + \"**/*.txt\", recursive=True)]\n",
    "    return files\n",
    "\n",
    "def build_dict(path, n, save):\n",
    "    fl=file_list(path, \"\")\n",
    "    words=read_file(fl)\n",
    "    dic=counter(words).most_common(n)\n",
    "    if save==False:\n",
    "        return dic\n",
    "    else:\n",
    "        f=open(\"dictionary.txt\", \"w\")\n",
    "        for w in [word for word, word_count in dic]:\n",
    "            f.write(str(w)+\"\\n\")\n",
    "        f.close()\n",
    "        \n",
    "\n",
    "\n",
    "path=\"aclImdb/smalltrain\"\n",
    "n=1000"
   ]
  },
  {
   "cell_type": "code",
   "execution_count": null,
   "metadata": {},
   "outputs": [],
   "source": []
  }
 ],
 "metadata": {
  "kernelspec": {
   "display_name": "Python 3",
   "language": "python",
   "name": "python3"
  },
  "language_info": {
   "codemirror_mode": {
    "name": "ipython",
    "version": 3
   },
   "file_extension": ".py",
   "mimetype": "text/x-python",
   "name": "python",
   "nbconvert_exporter": "python",
   "pygments_lexer": "ipython3",
   "version": "3.7.7"
  }
 },
 "nbformat": 4,
 "nbformat_minor": 4
}
