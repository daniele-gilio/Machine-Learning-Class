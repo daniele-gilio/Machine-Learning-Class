{
 "cells": [
  {
   "cell_type": "code",
   "execution_count": 1,
   "metadata": {},
   "outputs": [],
   "source": [
    "import numpy as np\n",
    "import matplotlib.pyplot as plt\n",
    "import cupy as cp"
   ]
  },
  {
   "cell_type": "code",
   "execution_count": 2,
   "metadata": {},
   "outputs": [],
   "source": [
    "def meanvar_normalization(X, *Xtest):\n",
    "    \"\"\"Normalize features using moments.\n",
    "    Linearly normalize each input feature to make it have zero mean\n",
    "    and unit variance.  Test features, when given, are scaled using\n",
    "    the statistics computed on X.\n",
    "    Parameters\n",
    "    ----------\n",
    "    X : ndarray, shape (m, n)\n",
    "         input features (one row per feature vector).\n",
    "    Xtest : ndarray, shape (mtest, n) or None\n",
    "         zero or more arrays of test features (one row per feature vector).\n",
    "    Returns\n",
    "    -------\n",
    "    ndarray, shape (m, n)\n",
    "        normalized features.\n",
    "    ndarray, shape (mtest, n)\n",
    "        normalized test features (one for each array in Xtest).\n",
    "    \"\"\"\n",
    "    mu = X.mean(0, keepdims=True)\n",
    "    sigma = X.std(0, keepdims=True)\n",
    "    X = X - mu\n",
    "    X /= cp.maximum(sigma, 1e-15)  # 1e-15 avoids division by zero\n",
    "    if not Xtest:\n",
    "        return X\n",
    "    Xtest = tuple((Xt - mu) / cp.maximum(sigma, 1e-15) for Xt in Xtest)\n",
    "    return (X,) + Xtest\n",
    "\n",
    "\n",
    "def minmax_normalization(X, *Xtest):\n",
    "    \"\"\"Scale features in the [0, 1] range.\n",
    "    Linearly normalize each input feature in the [0, 1] range.  Test\n",
    "    features, when given, are scaled using the statistics computed on\n",
    "    X.\n",
    "    Parameters\n",
    "    ----------\n",
    "    X : ndarray, shape (m, n)\n",
    "         input features (one row per feature vector).\n",
    "    Xtest : ndarray, shape (mtest, n) or None\n",
    "         zero or more arrays of test features (one row per feature vector).\n",
    "    Returns\n",
    "    -------\n",
    "    ndarray, shape (m, n)\n",
    "        normalized features.\n",
    "    ndarray, shape (mtest, n)\n",
    "        normalized test features (one for each array in Xtest).\n",
    "    \"\"\"\n",
    "    xmin = X.min(0, keepdims=True)\n",
    "    xmax = X.max(0, keepdims=True)\n",
    "    X = X - xmin\n",
    "    X /= cp.maximum(xmax - xmin, 1e-15)  # 1e-15 avoids division by zero\n",
    "    if not Xtest:\n",
    "        return X\n",
    "    Xtest = tuple((Xt - xmin) / cp.maximum(xmax - xmin, 1e-15) for Xt in Xtest)\n",
    "    return (X,) + Xtest\n",
    "\n",
    "\n",
    "def maxabs_normalization(X, *Xtest):\n",
    "    \"\"\"Scale features in the [-1, 1] range.\n",
    "    Linearly normalize each input feature in the [-1, 1] range by\n",
    "    dividing them by the maximum absolute value.  Test features, when\n",
    "    given, are scaled using the statistics computed on X.\n",
    "    Parameters\n",
    "    ----------\n",
    "    X : ndarray, shape (m, n)\n",
    "         input features (one row per feature vector).\n",
    "    Xtest : ndarray, shape (mtest, n) or None\n",
    "         zero or more arrays of test features (one row per feature vector).\n",
    "    Returns\n",
    "    -------\n",
    "    ndarray, shape (m, n)\n",
    "        normalized features.\n",
    "    ndarray, shape (mtest, n)\n",
    "        normalized test features (one for each array in Xtest).\n",
    "    \"\"\"\n",
    "    # 1e-15 avoids division by zero\n",
    "    amax = cp.maximum(cp.abs(X).max(0, keepdims=True), 1e-15)\n",
    "    X = X / amax\n",
    "    if not Xtest:\n",
    "        return X\n",
    "    Xtest = tuple(Xt / amax for Xt in Xtest)\n",
    "    return (X,) + Xtest\n",
    "\n",
    "\n",
    "def l2_normalization(X, *Xtest):\n",
    "    \"\"\"L2 normalization of feature vectors.\n",
    "    Scale feature vectors to make it have unit Euclidean norm.  Test\n",
    "    features, when given, are scaled as well.\n",
    "    Parameters\n",
    "    ----------\n",
    "    X : ndarray, shape (m, n)\n",
    "         input features (one row per feature vector).\n",
    "    Xtest : ndarray, shape (mtest, n) or None\n",
    "         zero or more arrays of test features (one row per feature vector).\n",
    "    Returns\n",
    "    -------\n",
    "    ndarray, shape (m, n)\n",
    "        normalized features.\n",
    "    ndarray, shape (mtest, n)\n",
    "        normalized test features (one for each array in Xtest).\n",
    "    \"\"\"\n",
    "    q = cp.sqrt((X ** 2).sum(1, keepdims=True))\n",
    "    X = X / cp.maximum(q, 1e-15)  # 1e-15 avoids division by zero\n",
    "    if not Xtest:\n",
    "        return X\n",
    "    Xtest = tuple(l2_normalization(Xt) for Xt in Xtest)\n",
    "    return (X,) + Xtest\n",
    "\n",
    "\n",
    "def l1_normalization(X, *Xtest):\n",
    "    \"\"\"L1 normalization of feature vectors.\n",
    "    Scale feature vectors to make it have unit L1 norm.  Test\n",
    "    features, when given, are scaled as well.\n",
    "    Parameters\n",
    "    ----------\n",
    "    X : ndarray, shape (m, n)\n",
    "         input features (one row per feature vector).\n",
    "    Xtest : ndarray, shape (mtest, n) or None\n",
    "         zero or more arrays of test features (one row per feature vector).\n",
    "    Returns\n",
    "    -------\n",
    "    ndarray, shape (m, n)\n",
    "        normalized features.\n",
    "    ndarray, shape (mtest, n)\n",
    "        normalized test features (one for each array in Xtest).\n",
    "    \"\"\"\n",
    "    q = cp.abs(X).sum(1, keepdims=True)\n",
    "    X = X / cp.maximum(q, 1e-15)  # 1e-15 avoids division by zero\n",
    "    if not Xtest:\n",
    "        return X\n",
    "    Xtest = tuple(l1_normalization(Xt) for Xt in Xtest)\n",
    "    return (X,) + Xtest\n",
    "\n",
    "\n",
    "def whitening(X, *Xtest):\n",
    "    \"\"\"Whitening transform.\n",
    "    Linearly transform features to make it have zero mean, unit\n",
    "    variance and null covariance.  Test features, when given, are\n",
    "    trandformed using the statistics computed on X.\n",
    "    Parameters\n",
    "    ----------\n",
    "    X : ndarray, shape (m, n)\n",
    "         input features (one row per feature vector).\n",
    "    Xtest : ndarray, shape (mtest, n) or None\n",
    "         zero or more arrays of test features (one row per feature vector).\n",
    "    Returns\n",
    "    -------\n",
    "    ndarray, shape (m, n)\n",
    "        normalized features.\n",
    "    ndarray, shape (mtest, n)\n",
    "        normalized test features (one for each array in Xtest).\n",
    "    \"\"\"\n",
    "    mu = X.mean(0, keepdims=True)\n",
    "    sigma = cp.cov(X.T)\n",
    "    evals, evecs = np.linalg.eig(cp.asnumpy(sigma))\n",
    "    evals=cp.array(evals)\n",
    "    evecs=cp.array(evecs)\n",
    "    w = (cp.maximum(evals, 1e-15) ** -0.5) * evecs  # 1e-15 avoids div. by zero\n",
    "    X = (X - mu) @ w\n",
    "    if not Xtest:\n",
    "        return X\n",
    "    Xtest = tuple((Xt - mu) @ w for Xt in Xtest)\n",
    "    return (X,) + Xtest"
   ]
  },
  {
   "cell_type": "code",
   "execution_count": 3,
   "metadata": {},
   "outputs": [],
   "source": [
    "def softmax(Z):\n",
    "    \"\"\"Softmax operator.\n",
    "    Parameters\n",
    "    ----------\n",
    "    Z : ndarray, shape (m, n)\n",
    "         input vectors.\n",
    "    Returns\n",
    "    -------\n",
    "    ndarray, shape (m, n)\n",
    "         data after the softmax has been applied to each row.\n",
    "    \"\"\"\n",
    "    # Subtracting the maximum improves numerical stability\n",
    "    E = cp.exp(Z - Z.max(1, keepdims=True))\n",
    "    return E / E.sum(1, keepdims=True)\n",
    "\n",
    "\n",
    "class MLP:\n",
    "    \"\"\"Multi-layer perceptron.\n",
    "    A multi-layer perceptron for classification.\n",
    "    The activation function for the output layer is the softmax\n",
    "    operator, while hidden neurons use relu.  The loss function used\n",
    "    during training is the cross entropy.\n",
    "    To use a different architecture it is possible to define a new\n",
    "    derived class which overrides some of the methods.\n",
    "    \"\"\"\n",
    "\n",
    "    def __init__(self, neuron_counts):\n",
    "        \"\"\"Create and initialiaze the MLP.\n",
    "        At least two layers must be specified (input and output).\n",
    "        Parameters\n",
    "        ----------\n",
    "        neuron_counts : list\n",
    "            number of neurons in the layers (first input, then hiddens,\n",
    "            then output).\n",
    "        \"\"\"\n",
    "        # Initialize weights with the Kaiming technique.\n",
    "        self.weights = [cp.random.randn(m, n) * cp.sqrt(2.0 / m)\n",
    "                        for m, n in zip(neuron_counts[:-1], neuron_counts[1:])]\n",
    "        # Biases are zero-initialized.\n",
    "        self.biases = [cp.zeros(m) for m in neuron_counts[1:]]\n",
    "        # Accumulators for the momentum terms\n",
    "        self.update_w = [cp.zeros_like(w) for w in self.weights]\n",
    "        self.update_b = [cp.zeros_like(b) for b in self.biases]\n",
    "        self.global_counter=0\n",
    "\n",
    "    def forward(self, X):\n",
    "        \"\"\"Compute the activations of the neurons.\n",
    "        Parameters\n",
    "        ----------\n",
    "        X : ndarray, shape (m, n)\n",
    "            input features (one row per feature vector).\n",
    "        Returns\n",
    "        -------\n",
    "        list\n",
    "            the list of activations of the neurons\n",
    "        The returned list contains arrays (one per layer) with the\n",
    "        activations of the layers.  The first element of the list is\n",
    "        the input X, followed by the activations of hidden layers and\n",
    "        trminated by the activations in the output layer.\n",
    "        \"\"\"\n",
    "        activations = [X]\n",
    "        for W, b in zip(self.weights[:-1], self.biases[:-1]):\n",
    "            X = self.forward_hidden_layer(X, W, b)\n",
    "            X = self.forward_hidden_activation(X)\n",
    "            activations.append(X)\n",
    "        X = self.forward_output_layer(X, self.weights[-1], self.biases[-1])\n",
    "        X = self.forward_output_activation(X)\n",
    "        activations.append(X)\n",
    "        return activations\n",
    "\n",
    "    def backward(self, Y, activations):\n",
    "        \"\"\"Compute the derivatives of the loss wrt the activations.\n",
    "        Parameters\n",
    "        ----------\n",
    "        Y : ndarray, shape (m,)\n",
    "            target output (integer class labels).\n",
    "        activations : list\n",
    "            activations computed by the forward method.\n",
    "        Returns\n",
    "        -------\n",
    "        list\n",
    "            the list of computed derivatives, one for each layer.\n",
    "        \"\"\"\n",
    "        d = self.backward_output_activation(Y, activations[-1])\n",
    "        derivatives = [d]\n",
    "        if len(self.weights) > 1:\n",
    "            d = self.backward_output_layer(self.weights[-1],\n",
    "                                           self.biases[-1], d)\n",
    "            d = self.backward_hidden_activation(activations[-2], d)\n",
    "            derivatives.append(d)\n",
    "        for W, b, X in zip(self.weights[-2:0:-1], self.biases[-2:0:-1],\n",
    "                           activations[-3::-1]):\n",
    "            d = self.backward_hidden_layer(W, b, d)\n",
    "            d = self.backward_hidden_activation(X, d)\n",
    "            derivatives.append(d)\n",
    "        return derivatives[::-1]\n",
    "\n",
    "    def backpropagation(self, X, Y, lr=1e-4, lambda_=1e-5, momentum=0.99):\n",
    "        \"\"\"Backpropagation algorithm.\n",
    "        Perform both the forward and the backward steps and update the\n",
    "        parameters.\n",
    "        Parameters\n",
    "        ----------\n",
    "        X : ndarray, shape (m, n)\n",
    "            input features (one row per feature vector).\n",
    "        Y : ndarray, shape (m,)\n",
    "            target output (integer class labels).\n",
    "        lr : float\n",
    "            learning rate.\n",
    "        lambda_ : float\n",
    "            regularization coefficients.\n",
    "        momentum : float\n",
    "            momentum coefficient.\n",
    "        \"\"\"\n",
    "        activations = self.forward(X)\n",
    "        derivatives = self.backward(Y, activations)\n",
    "        for X, D, W, b, uw, ub in zip(activations, derivatives,\n",
    "                                      self.weights, self.biases,\n",
    "                                      self.update_w, self.update_b):\n",
    "            grad_W = (X.T @ D) + lambda_ * W\n",
    "            grad_b = D.sum(0)\n",
    "            uw *= momentum\n",
    "            uw -= lr * grad_W\n",
    "            W += uw\n",
    "            ub *= momentum\n",
    "            ub -= lr * grad_b\n",
    "            b += ub\n",
    "\n",
    "    def inference(self, X):\n",
    "        \"\"\"Compute the predictions of the network.\n",
    "        Parameters\n",
    "        ----------\n",
    "        X : ndarray, shape (m, n)\n",
    "            input features (one row per feature vector).\n",
    "        Returns\n",
    "        -------\n",
    "        ndarray, shape (m,)\n",
    "            predicted labels, in the range 0, ..., k - 1\n",
    "        ndarray, shape (m, k)\n",
    "            posterior probability estimates.\n",
    "        \"\"\"\n",
    "        probs = self.forward(X)[-1]\n",
    "        labels = cp.argmax(probs, 1)\n",
    "        return labels, probs\n",
    "\n",
    "    def train(self, X, Y, lr0=1e-4, lambda_=1e-5, momentum=0.99,\n",
    "              steps=10000, batch=None):\n",
    "        \"\"\"Train the network.\n",
    "        Apply multiple steps of stochastic gradient descent.\n",
    "        Parameters\n",
    "        ----------\n",
    "        X : ndarray, shape (m, n)\n",
    "            input features (one row per feature vector).\n",
    "        Y : ndarray, shape (m,)\n",
    "            target output (integer class labels).\n",
    "        lr : float\n",
    "            learning rate.\n",
    "        lambda_ : float\n",
    "            regularization coefficients.\n",
    "        momentum : float\n",
    "            momentum coefficient.\n",
    "        steps : int\n",
    "            training iterations.\n",
    "        batch : int or None\n",
    "            size of the minibatch used in each step.  When None all\n",
    "            the data is used in each step.\n",
    "        \"\"\"\n",
    "        m = X.shape[0]\n",
    "        if batch is None:\n",
    "            batch = X.shape[0]\n",
    "        i = m\n",
    "        indices = cp.arange(m)\n",
    "        for step in range(steps):\n",
    "            if self.global_counter%steps==0:\n",
    "                lr=lr0/cp.sqrt(self.global_counter/steps + 1) #update at every epoch\n",
    "            if i + batch > m:\n",
    "                i = 0\n",
    "                cp.random.shuffle(indices)\n",
    "            self.backpropagation(X[indices[i:i + batch], :],\n",
    "                                 Y[indices[i:i + batch]],\n",
    "                                 lr=lr,\n",
    "                                 lambda_=lambda_,\n",
    "                                 momentum=momentum)\n",
    "            i += batch\n",
    "            self.global_counter+=1\n",
    "\n",
    "    def save(self, filename):\n",
    "        \"\"\"Save the network to the file.\"\"\"\n",
    "        cp.savez(filename, weights=self.weights, biases=self.biases)\n",
    "\n",
    "    @classmethod\n",
    "    def load(cls, filename):\n",
    "        \"\"\"Create a new network from the data saved in the file.\"\"\"\n",
    "        data = cp.load(filename)\n",
    "        neurons = [w.shape[0] for w in data[\"weights\"]]\n",
    "        neurons.append(data[\"weights\"][-1].shape[1])\n",
    "        network = cls(neurons)\n",
    "        network.weights = data[\"weights\"]\n",
    "        network.biases = data[\"biases\"]\n",
    "        return network\n",
    "\n",
    "    # These last methods can be modified by derived classes to change\n",
    "    # the architecture of the MLP.\n",
    "\n",
    "    def forward_hidden_layer(self, X, W, b):\n",
    "        \"\"\"Forward pass of hidden layers.\"\"\"\n",
    "        return X @ W + b\n",
    "\n",
    "    def forward_hidden_activation(self, X):\n",
    "        \"\"\"Activation function of hidden layers.\"\"\"\n",
    "        return relu(X)\n",
    "\n",
    "    def forward_output_layer(self, X, W, b):\n",
    "        \"\"\"Forward pass of the output layer.\"\"\"\n",
    "        return X @ W + b\n",
    "\n",
    "    def forward_output_activation(self, X):\n",
    "        \"\"\"Activation function of the output layer.\"\"\"\n",
    "        return softmax(X)\n",
    "\n",
    "    def backward_hidden_layer(self, W, b, d):\n",
    "        \"\"\"Backward pass of hidden layers.\"\"\"\n",
    "        return d @ W.T\n",
    "\n",
    "    def backward_hidden_activation(self, Y, d):\n",
    "        \"\"\"Derivative of the activation function of hidden layers.\"\"\"\n",
    "        return d * (Y > 0).astype(int)\n",
    "\n",
    "    def backward_output_layer(self, W, b, d):\n",
    "        \"\"\"Backward pass of the ouput layer.\"\"\"\n",
    "        return d @ W.T\n",
    "\n",
    "    def backward_output_activation(self, Y, P):\n",
    "        \"\"\"Derivative of the activation function of output layer.\"\"\"\n",
    "        d = P.copy()\n",
    "        # Implicitly subtract the one-hot vectors\n",
    "        d[cp.arange(Y.shape[0]), Y] -= 1\n",
    "        return d / Y.shape[0]\n",
    "\n",
    "    def loss(self, Y, P):\n",
    "        \"\"\"Compute the average cross-entropy.\"\"\"\n",
    "        return -cp.log(P[cp.arange(Y.shape[0]), Y]).mean()\n",
    "\n",
    "\n",
    "def relu(x):\n",
    "    \"\"\"ReLU activation function.\"\"\"\n",
    "    return cp.maximum(x, 0)"
   ]
  },
  {
   "cell_type": "code",
   "execution_count": 4,
   "metadata": {
    "scrolled": true
   },
   "outputs": [
    {
     "data": {
      "image/png": "[encoded data removed]",
      "text/plain": [
       "<Figure size 432x288 with 1 Axes>"
      ]
     },
     "metadata": {
      "needs_background": "light"
     },
     "output_type": "display_data"
    },
    {
     "data": {
      "image/png": "[encoded data removed]",
      "text/plain": [
       "<Figure size 432x288 with 1 Axes>"
      ]
     },
     "metadata": {
      "needs_background": "light"
     },
     "output_type": "display_data"
    },
    {
     "data": {
      "image/png": "[encoded data removed]",
      "text/plain": [
       "<Figure size 432x288 with 1 Axes>"
      ]
     },
     "metadata": {
      "needs_background": "light"
     },
     "output_type": "display_data"
    },
    {
     "data": {
      "image/png": "[encoded data removed]",
      "text/plain": [
       "<Figure size 432x288 with 1 Axes>"
      ]
     },
     "metadata": {
      "needs_background": "light"
     },
     "output_type": "display_data"
    },
    {
     "data": {
      "image/png": "[encoded data removed]",
      "text/plain": [
       "<Figure size 432x288 with 1 Axes>"
      ]
     },
     "metadata": {
      "needs_background": "light"
     },
     "output_type": "display_data"
    },
    {
     "name": "stdout",
     "output_type": "stream",
     "text": [
      "Max:  13797570000.0\n",
      "Min:  4.015564e-21\n",
      "Mean:  11925019.085404279\n",
      "Standard Deviation:  107445121.56665969\n"
     ]
    },
    {
     "data": {
      "image/png": "[encoded data removed]",
      "text/plain": [
       "<Figure size 432x288 with 1 Axes>"
      ]
     },
     "metadata": {
      "needs_background": "light"
     },
     "output_type": "display_data"
    },
    {
     "data": {
      "image/png": "[encoded data removed]",
      "text/plain": [
       "<Figure size 432x288 with 1 Axes>"
      ]
     },
     "metadata": {
      "needs_background": "light"
     },
     "output_type": "display_data"
    },
    {
     "data": {
      "image/png": "[encoded data removed]",
      "text/plain": [
       "<Figure size 432x288 with 1 Axes>"
      ]
     },
     "metadata": {
      "needs_background": "light"
     },
     "output_type": "display_data"
    },
    {
     "data": {
      "image/png": "[encoded data removed]",
      "text/plain": [
       "<Figure size 432x288 with 1 Axes>"
      ]
     },
     "metadata": {
      "needs_background": "light"
     },
     "output_type": "display_data"
    },
    {
     "data": {
      "image/png": "[encoded data removed]",
      "text/plain": [
       "<Figure size 432x288 with 1 Axes>"
      ]
     },
     "metadata": {
      "needs_background": "light"
     },
     "output_type": "display_data"
    },
    {
     "name": "stdout",
     "output_type": "stream",
     "text": [
      "Max:  0.8322946690646437\n",
      "Min:  6.095273672094359e-29\n",
      "Mean:  0.008073663585287702\n",
      "Standard Deviation:  0.030189045303083036\n"
     ]
    }
   ],
   "source": [
    "def visualize(data, n, data_path):\n",
    "    data=data.reshape(len(data), 16, 64)\n",
    "    f=open(data_path+\"train-names.txt\")\n",
    "    names=f.read().split()\n",
    "    f.close()\n",
    "    #np.random.seed(0) #<- Use for testing purposes, it ensures repeatability\n",
    "    for i in range(n):\n",
    "        s=np.random.randint(0, len(data))\n",
    "        plot_data=data[s]\n",
    "        plt.imshow(cp.asnumpy(plot_data), cmap=\"gist_heat\")\n",
    "        plt.xlabel(\"Time\")\n",
    "        plt.ylabel(\"Frequency\")\n",
    "        plt.title(names[s])\n",
    "        plt.show()\n",
    "    \n",
    "data_path=\"spoken-digits/\"\n",
    "ext=\".txt.gz\"\n",
    "train_data=np.loadtxt(data_path+\"train\"+ext)\n",
    "x_train=cp.array(train_data[:,:-1])\n",
    "y_train=cp.array(train_data[:,-1].astype(np.int32))\n",
    "\n",
    "val_data=np.loadtxt(data_path+\"validation\"+ext)\n",
    "x_val=cp.array(val_data[:,:-1])\n",
    "y_val=cp.array(val_data[:,-1].astype(np.int32))\n",
    "\n",
    "test_data=np.loadtxt(data_path+\"test\"+ext)\n",
    "x_test=cp.array(test_data[:,:-1])\n",
    "y_test=cp.array(test_data[:,-1].astype(np.int32))\n",
    "\n",
    "\n",
    "visualize(x_train, 5, data_path)\n",
    "print(\"Max: \",x_train.max())\n",
    "print(\"Min: \", cp.min(x_train[np.nonzero(x_train)]))\n",
    "print(\"Mean: \", x_train.mean())\n",
    "print(\"Standard Deviation: \", x_train.std())\n",
    "\n",
    "x_train, x_test=l2_normalization(x_train, x_test)\n",
    "x_val=l2_normalization(x_val)\n",
    "visualize(x_train,5,data_path)\n",
    "print(\"Max: \",x_train.max())\n",
    "print(\"Min: \", cp.min(x_train[np.nonzero(x_train)]))\n",
    "print(\"Mean: \", x_train.mean())\n",
    "print(\"Standard Deviation: \", x_train.std())"
   ]
  },
  {
   "cell_type": "code",
   "execution_count": 28,
   "metadata": {},
   "outputs": [
    {
     "name": "stdout",
     "output_type": "stream",
     "text": [
      "221\n",
      "Train Accuracy:  98.97727272727272 Validation Accuracy:  6.666666666666667\n",
      "Train Accuracy:  99.88636363636364 Validation Accuracy:  5.833333333333333\n",
      "Train Accuracy:  100.0 Validation Accuracy:  5.833333333333333\n",
      "Train Accuracy:  100.0 Validation Accuracy:  5.833333333333333\n",
      "Train Accuracy:  100.0 Validation Accuracy:  5.833333333333333\n",
      "Train Accuracy:  100.0 Validation Accuracy:  5.833333333333333\n",
      "Train Accuracy:  100.0 Validation Accuracy:  5.833333333333333\n",
      "Train Accuracy:  100.0 Validation Accuracy:  5.833333333333333\n",
      "Train Accuracy:  100.0 Validation Accuracy:  5.833333333333333\n",
      "Train Accuracy:  100.0 Validation Accuracy:  5.833333333333333\n"
     ]
    }
   ],
   "source": [
    "nn_multi=MLP([1024, 256, 128, 10])\n",
    "epochs=100\n",
    "batch_size=8\n",
    "steps=len(x_train)//batch_size + 1\n",
    "print(steps)\n",
    "train_accs=[]\n",
    "val_accs=[]\n",
    "ep_vec=[]\n",
    "%matplotlib qt\n",
    "plt.ion()\n",
    "for i in range(epochs):\n",
    "    nn_multi.train(x_train, y_train, lr0=1e-3, lambda_=1e-5, momentum=0.99,\n",
    "                  steps=steps, batch=batch_size)\n",
    "    train_labels=nn_multi.inference(x_train)[0]\n",
    "    val_labels=nn_multi.inference(x_val)[0]\n",
    "    train_acc=(train_labels==y_train).mean()*100\n",
    "    val_acc=(val_labels==y_val).mean()*100\n",
    "    train_accs.append(train_acc)\n",
    "    val_accs.append(val_acc)\n",
    "    ep_vec.append(i)\n",
    "    plt.clf()\n",
    "    plt.plot(ep_vec, train_accs, label=\"Training Accuracy\")\n",
    "    plt.plot(ep_vec, val_accs, label=\"Validation Accuracy\")\n",
    "    plt.pause(0.005)\n",
    "    \n",
    "    if (i+1)%10==0:\n",
    "        print(\"Train Accuracy: \", train_acc, \"Validation Accuracy: \", val_acc)\n",
    "plt.ioff()\n",
    "%matplotlib inline"
   ]
  },
  {
   "cell_type": "code",
   "execution_count": 29,
   "metadata": {},
   "outputs": [
    {
     "name": "stdout",
     "output_type": "stream",
     "text": [
      "32.5\n"
     ]
    }
   ],
   "source": [
    "labels=nn_multi.inference(x_test)[0]\n",
    "test_acc=(labels==y_test).mean()*100\n",
    "print(test_acc)"
   ]
  },
  {
   "cell_type": "code",
   "execution_count": 11,
   "metadata": {},
   "outputs": [
    {
     "name": "stdout",
     "output_type": "stream",
     "text": [
      "221\n",
      "Train Accuracy:  56.07954545454545 Validation Accuracy:  56.666666666666664\n",
      "Train Accuracy:  59.602272727272734 Validation Accuracy:  57.49999999999999\n",
      "Train Accuracy:  61.07954545454546 Validation Accuracy:  59.166666666666664\n",
      "Train Accuracy:  62.38636363636364 Validation Accuracy:  60.83333333333333\n",
      "Train Accuracy:  63.29545454545455 Validation Accuracy:  60.83333333333333\n",
      "Train Accuracy:  63.97727272727273 Validation Accuracy:  61.66666666666667\n",
      "Train Accuracy:  65.05681818181817 Validation Accuracy:  62.5\n",
      "Train Accuracy:  65.79545454545455 Validation Accuracy:  62.5\n",
      "Train Accuracy:  66.42045454545455 Validation Accuracy:  63.33333333333333\n",
      "Train Accuracy:  67.1590909090909 Validation Accuracy:  63.33333333333333\n",
      "Test Accuracy:  57.49999999999999\n"
     ]
    }
   ],
   "source": [
    "nn_single=MLP([1024, 10])\n",
    "epochs=100\n",
    "batch_size=8\n",
    "steps=len(x_train)//batch_size + 1\n",
    "print(steps)\n",
    "train_accs=[]\n",
    "val_accs=[]\n",
    "ep_vec=[]\n",
    "%matplotlib qt\n",
    "plt.ion()\n",
    "for i in range(epochs):\n",
    "    nn_single.train(x_train, y_train, lr0=1e-3, lambda_=1e-5, momentum=0.99,\n",
    "                  steps=steps, batch=batch_size)\n",
    "    train_labels=nn_single.inference(x_train)[0]\n",
    "    val_labels=nn_single.inference(x_val)[0]\n",
    "    train_acc=(train_labels==y_train).mean()*100\n",
    "    val_acc=(val_labels==y_val).mean()*100\n",
    "    train_accs.append(train_acc)\n",
    "    val_accs.append(val_acc)\n",
    "    ep_vec.append(i)\n",
    "    plt.clf()\n",
    "    plt.plot(ep_vec, train_accs, label=\"Training Accuracy\")\n",
    "    plt.plot(ep_vec, val_accs, label=\"Validation Accuracy\")\n",
    "    plt.pause(0.005)\n",
    "    \n",
    "    if (i+1)%10==0:\n",
    "        print(\"Train Accuracy: \", train_acc, \"Validation Accuracy: \", val_acc)\n",
    "plt.ioff()\n",
    "%matplotlib inline\n",
    "\n",
    "labels=nn_single.inference(x_test)[0]\n",
    "test_acc=(labels==y_test).mean()*100\n",
    "print(\"Test Accuracy: \", test_acc)"
   ]
  },
  {
   "cell_type": "code",
   "execution_count": 18,
   "metadata": {},
   "outputs": [
    {
     "name": "stdout",
     "output_type": "stream",
     "text": [
      "(1024, 10)\n"
     ]
    },
    {
     "data": {
      "image/png": "[encoded data removed]",
      "text/plain": [
       "<Figure size 432x288 with 1 Axes>"
      ]
     },
     "metadata": {
      "needs_background": "light"
     },
     "output_type": "display_data"
    },
    {
     "data": {
      "image/png": "[encoded data removed]",
      "text/plain": [
       "<Figure size 432x288 with 1 Axes>"
      ]
     },
     "metadata": {
      "needs_background": "light"
     },
     "output_type": "display_data"
    },
    {
     "data": {
      "image/png": "[encoded data removed]",
      "text/plain": [
       "<Figure size 432x288 with 1 Axes>"
      ]
     },
     "metadata": {
      "needs_background": "light"
     },
     "output_type": "display_data"
    },
    {
     "data": {
      "image/png": "[encoded data removed]",
      "text/plain": [
       "<Figure size 432x288 with 1 Axes>"
      ]
     },
     "metadata": {
      "needs_background": "light"
     },
     "output_type": "display_data"
    },
    {
     "data": {
      "image/png": "[encoded data removed]",
      "text/plain": [
       "<Figure size 432x288 with 1 Axes>"
      ]
     },
     "metadata": {
      "needs_background": "light"
     },
     "output_type": "display_data"
    },
    {
     "data": {
      "image/png": "[encoded data removed]",
      "text/plain": [
       "<Figure size 432x288 with 1 Axes>"
      ]
     },
     "metadata": {
      "needs_background": "light"
     },
     "output_type": "display_data"
    },
    {
     "data": {
      "image/png": "[encoded data removed]",
      "text/plain": [
       "<Figure size 432x288 with 1 Axes>"
      ]
     },
     "metadata": {
      "needs_background": "light"
     },
     "output_type": "display_data"
    },
    {
     "data": {
      "image/png": "[encoded data removed]",
      "text/plain": [
       "<Figure size 432x288 with 1 Axes>"
      ]
     },
     "metadata": {
      "needs_background": "light"
     },
     "output_type": "display_data"
    },
    {
     "data": {
      "image/png": "[encoded data removed]",
      "text/plain": [
       "<Figure size 432x288 with 1 Axes>"
      ]
     },
     "metadata": {
      "needs_background": "light"
     },
     "output_type": "display_data"
    },
    {
     "data": {
      "image/png": "[encoded data removed]",
      "text/plain": [
       "<Figure size 432x288 with 1 Axes>"
      ]
     },
     "metadata": {
      "needs_background": "light"
     },
     "output_type": "display_data"
    }
   ],
   "source": [
    "print(np.array(nn_single.weights)[0].shape)\n",
    "w=cp.asnumpy(nn_single.weights[0])\n",
    "for i in range(10):\n",
    "    plt.imshow(w[:,i].reshape(16,64), cmap=\"gist_heat\")\n",
    "    plt.title(str(i))\n",
    "    plt.xlabel(\"Time\")\n",
    "    plt.ylabel(\"Frequency\")\n",
    "    plt.show()"
   ]
  },
  {
   "cell_type": "code",
   "execution_count": null,
   "metadata": {},
   "outputs": [],
   "source": []
  }
 ],
 "metadata": {
  "kernelspec": {
   "display_name": "Python 3",
   "language": "python",
   "name": "python3"
  },
  "language_info": {
   "codemirror_mode": {
    "name": "ipython",
    "version": 3
   },
   "file_extension": ".py",
   "mimetype": "text/x-python",
   "name": "python",
   "nbconvert_exporter": "python",
   "pygments_lexer": "ipython3",
   "version": "3.7.7"
  }
 },
 "nbformat": 4,
 "nbformat_minor": 4
}
