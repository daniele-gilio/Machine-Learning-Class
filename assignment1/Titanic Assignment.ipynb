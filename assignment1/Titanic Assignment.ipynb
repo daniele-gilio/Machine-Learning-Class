{
 "cells": [
  {
   "cell_type": "code",
   "execution_count": 1,
   "metadata": {},
   "outputs": [],
   "source": [
    "import numpy as np\n",
    "import matplotlib.pyplot as plt\n",
    "\n",
    "plt.rcParams[\"savefig.format\"]=\"png\"\n",
    "#plt.rcParams['figure.figsize'] = [16,9]\n",
    "np.random.seed(0)"
   ]
  },
  {
   "cell_type": "code",
   "execution_count": 2,
   "metadata": {
    "scrolled": true
   },
   "outputs": [
    {
     "name": "stdout",
     "output_type": "stream",
     "text": [
      "0 1\n",
      "0 2\n",
      "0 3\n",
      "0 4\n",
      "0 5\n",
      "1 2\n",
      "1 3\n",
      "1 4\n",
      "1 5\n",
      "2 3\n",
      "2 4\n",
      "2 5\n",
      "3 4\n",
      "3 5\n",
      "4 5\n"
     ]
    },
    {
     "data": {
      "text/plain": [
       "<Figure size 432x288 with 0 Axes>"
      ]
     },
     "metadata": {},
     "output_type": "display_data"
    }
   ],
   "source": [
    "#Import Data\n",
    "names=[\"Class\", \"Gender\", \"Age\", \"Sibling and Spouses\", \"Parents and Children\" , \"Fare\", \"Survivors\"]\n",
    "data = np.loadtxt(\"titanic-train.txt\")\n",
    "test_data = np.loadtxt(\"titanic-test.txt\")\n",
    "#print(test_data.shape)\n",
    "\n",
    "for i in range(7):\n",
    "    plt.title(names[i])\n",
    "    plt.xlabel(names[i])\n",
    "    plt.ylabel(\"Relative Frequency\")\n",
    "    plt.grid(1)\n",
    "    plt.hist(data[:,i], weights=(np.zeros_like(data[:,i])+1./data[:,i].size)*100)\n",
    "    #plt.show()\n",
    "    plt.savefig(\"images/\"+names[i])\n",
    "    plt.clf()\n",
    "\n",
    "cl=data[:,0]\n",
    "sex=data[:,1]\n",
    "surv=data[:,6]\n",
    "a=np.zeros(3)\n",
    "b=np.zeros(2)\n",
    "for i in range(cl.size):\n",
    "    if sex[i]==0 and surv[i]==1:\n",
    "        b[0]+=1\n",
    "    if sex[i]==1 and surv[i]==1:\n",
    "        b[1]+=1\n",
    "    if cl[i]==1 and surv[i]==1:\n",
    "        a[0]+=1\n",
    "    elif cl[i]==2 and surv[i]==1:\n",
    "        a[1]+=1\n",
    "    elif cl[i]==3 and surv[i]==1:\n",
    "        a[2]+=1\n",
    "        \n",
    "#a[2]=cl.size-a[0]-a[1]\n",
    "labc=[1,2,3]\n",
    "labs=[\"Male\", \"Female\"]\n",
    "a/=a.sum()/100\n",
    "b*=100/b.sum()\n",
    "plt.bar(labc,a)\n",
    "plt.grid(1)\n",
    "plt.title(\"Class Survival Empirical Probability\")\n",
    "plt.xlabel(\"Class\")\n",
    "plt.ylabel(\"Surviving Probability\")\n",
    "#plt.show()\n",
    "plt.savefig(\"images/\"+\"class_emp\")\n",
    "plt.clf()\n",
    "\n",
    "plt.bar(labs,b)\n",
    "plt.grid(1)\n",
    "plt.title(\"Gender Survival Empirical Probability\")\n",
    "plt.xlabel(\"Gender\")\n",
    "plt.ylabel(\"Surviving Probability\")\n",
    "#plt.show()\n",
    "plt.savefig(\"images/\"+\"gend_emp\")\n",
    "plt.clf()\n",
    "\n",
    "#Plot Data Correlation\n",
    "for i in range(6):\n",
    "    for j in range(i+1,6):\n",
    "        print(i,j)\n",
    "        plt.title(names[i] + \" vs. \" + names[j])\n",
    "        plt.xlabel(names[i])\n",
    "        plt.ylabel(names[j])\n",
    "        plt.scatter(data[:,i], data[:,j], c=data[:,6], alpha=0.5)\n",
    "        plt.grid(1)\n",
    "        #plt.show()\n",
    "        plt.savefig(\"images/\"+names[i] + \" vs. \" + names[j]+\".png\")\n",
    "        plt.clf()"
   ]
  },
  {
   "cell_type": "code",
   "execution_count": 4,
   "metadata": {},
   "outputs": [],
   "source": [
    "#Logistic Regression Functions\n",
    "\n",
    "def sigmoid(z):\n",
    "    return 1./(1.+np.exp(-z))\n",
    "\n",
    "def logreg_inference(x,w,b):\n",
    "    return sigmoid(x@w+b)\n",
    "\n",
    "def cross_entropy(p,y):\n",
    "    return (-y*np.log(p)-(1-y)*np.log(1-p)).mean()\n",
    "\n",
    "def logreg_train(x, y, epochs, lr,l, x_t,y_t):\n",
    "    s_loss=np.zeros(epochs)\n",
    "    s_tloss=np.zeros(epochs)\n",
    "    s_acc=np.zeros(epochs)\n",
    "    s_tacc=np.zeros(epochs)\n",
    "    m,n=x.shape\n",
    "    w=np.zeros(n)\n",
    "    b=0\n",
    "    n=0\n",
    "    print(\"Steps  Loss  Accuracy\")\n",
    "    for step in range(epochs):\n",
    "        p=logreg_inference(x,w,b)\n",
    "        s_loss[step]=cross_entropy(p,y)\n",
    "        predictions=np.asarray(p>0.5)\n",
    "        s_acc[step]=np.asarray(predictions==y).mean()\n",
    "        pt=logreg_inference(x_t,w,b)\n",
    "        tpred=np.asarray(pt>0.5)\n",
    "        s_tloss[step]= cross_entropy(pt,y_t)\n",
    "        s_tacc[step]= np.asarray(tpred==y_t).mean()\n",
    "        if step%10000==0:\n",
    "            #print(step, loss)\n",
    "            print(step, s_loss[step], s_tloss[step], s_acc[step]*100, s_tacc[step]*100)\n",
    "        grad_b=(p-y).mean()#+2*l*(b)\n",
    "        grad_w=(x.T@(p-y))/m+2*l*(w)\n",
    "        b-=lr*grad_b\n",
    "        w-=lr*grad_w\n",
    "    \n",
    "    np.save(\"loss\", s_loss)\n",
    "    np.save(\"loss_test\", s_tloss)\n",
    "    np.save(\"accuracy\", s_acc)\n",
    "    np.save(\"accuracy_test\",s_tacc)\n",
    "    return w,b\n",
    "\n",
    "#Assign Data and Labels\n",
    "x=data[:,:6]\n",
    "y=data[:,6]\n",
    "x_t=test_data[:,:6]\n",
    "y_t=test_data[:,6]"
   ]
  },
  {
   "cell_type": "code",
   "execution_count": 5,
   "metadata": {
    "scrolled": false
   },
   "outputs": [
    {
     "name": "stdout",
     "output_type": "stream",
     "text": [
      "Steps  Loss  Accuracy\n",
      "0 0.6931471805599453 0.6931471805599453 62.112676056338024 58.75706214689266\n",
      "10000 0.510078751241195 0.5423794290740517 74.64788732394366 72.88135593220339\n",
      "20000 0.4727497905344524 0.5120153200906249 80.0 79.09604519774011\n",
      "30000 0.45624460406352196 0.49993599464431976 80.70422535211267 79.09604519774011\n",
      "40000 0.4481238368919445 0.4948501546197523 80.0 78.53107344632768\n",
      "50000 0.4437141198462017 0.4926351146745903 79.85915492957747 78.53107344632768\n",
      "60000 0.44107432086310616 0.4916491090780825 79.85915492957747 78.53107344632768\n",
      "70000 0.43933445420701006 0.49119819635478174 80.14084507042254 79.09604519774011\n",
      "80000 0.4380807186243659 0.4909786805965806 80.14084507042254 79.09604519774011\n",
      "90000 0.4371066819434238 0.4908563588428565 80.14084507042254 79.09604519774011\n",
      "100000 0.4363051134766246 0.4907730866362464 80.14084507042254 79.09604519774011\n",
      "110000 0.43561817615393655 0.490705246419596 80.14084507042254 79.09604519774011\n",
      "120000 0.43501342385414615 0.4906446874147154 80.42253521126761 79.09604519774011\n",
      "130000 0.434471813769882 0.4905898462945153 80.28169014084507 79.66101694915254\n",
      "140000 0.43398154937790373 0.49054162738063967 80.14084507042254 79.66101694915254\n",
      "150000 0.4335348472258169 0.49050154768144316 80.0 79.66101694915254\n",
      "160000 0.4331262082152131 0.49047096299516973 80.14084507042254 79.66101694915254\n",
      "170000 0.4327514788419766 0.4904508023009884 80.28169014084507 79.66101694915254\n",
      "180000 0.4324073338340839 0.49044153108978966 80.28169014084507 79.66101694915254\n",
      "190000 0.43209098642436977 0.4904432081272132 80.28169014084507 79.09604519774011\n",
      "Training Set Accuracy:  80.28169014084507\n"
     ]
    }
   ],
   "source": [
    "#Training\n",
    "w,b = logreg_train(x,y, int(2*1e5),0.001,0., x_t,y_t)\n",
    "p=logreg_inference(x,w,b)\n",
    "predictions=(p>0.5)\n",
    "accuracy=(predictions==y).mean()\n",
    "print(\"Training Set Accuracy: \", accuracy*100)"
   ]
  },
  {
   "cell_type": "code",
   "execution_count": 6,
   "metadata": {},
   "outputs": [
    {
     "name": "stderr",
     "output_type": "stream",
     "text": [
      "/home/daniele/anaconda3/lib/python3.7/site-packages/ipykernel_launcher.py:13: UserWarning: Creating legend with loc=\"best\" can be slow with large amounts of data.\n",
      "  del sys.path[0]\n",
      "/home/daniele/anaconda3/lib/python3.7/site-packages/ipykernel_launcher.py:24: UserWarning: Creating legend with loc=\"best\" can be slow with large amounts of data.\n"
     ]
    },
    {
     "data": {
      "text/plain": [
       "<Figure size 432x288 with 0 Axes>"
      ]
     },
     "metadata": {},
     "output_type": "display_data"
    }
   ],
   "source": [
    "s_loss=np.load(\"loss.npy\")\n",
    "s_tloss=np.load(\"loss_test.npy\")\n",
    "s_acc=np.load(\"accuracy.npy\")\n",
    "s_tacc=np.load(\"accuracy_test.npy\")\n",
    "\n",
    "plt.plot(s_loss, label=\"Training Loss\")\n",
    "plt.plot(s_tloss, label=\"Test Loss\")\n",
    "plt.grid(1)\n",
    "plt.legend()\n",
    "plt.title(\"Loss Functions\")\n",
    "plt.xlabel(\"Steps\")\n",
    "plt.ylabel(\"Loss Value\")\n",
    "plt.savefig(\"images/\"+\"losses\")\n",
    "plt.clf()\n",
    "#plt.show()\n",
    "\n",
    "plt.plot(s_acc, label=\"Training Accuracy\")\n",
    "plt.plot(s_tacc, label=\"Test Accuracy\")\n",
    "plt.grid(1)\n",
    "plt.legend()\n",
    "plt.title(\"Accuracy\")\n",
    "plt.xlabel(\"Steps\")\n",
    "plt.ylabel(\"Accuracy Value\")\n",
    "plt.savefig(\"images/\"+\"acc\")\n",
    "plt.clf()\n",
    "#plt.show()"
   ]
  },
  {
   "cell_type": "code",
   "execution_count": 7,
   "metadata": {
    "scrolled": true
   },
   "outputs": [
    {
     "name": "stdout",
     "output_type": "stream",
     "text": [
      "[-0.97398596  2.76847753 -0.03290549 -0.3023238  -0.09865615  0.00367901] 1.5634614668927844\n",
      "0 1\n",
      "0 2\n",
      "0 3\n",
      "0 4\n",
      "0 5\n",
      "1 2\n",
      "1 3\n",
      "1 4\n",
      "1 5\n",
      "2 3\n",
      "2 4\n",
      "2 5\n",
      "3 4\n",
      "3 5\n",
      "4 5\n"
     ]
    },
    {
     "data": {
      "text/plain": [
       "<Figure size 432x288 with 0 Axes>"
      ]
     },
     "metadata": {},
     "output_type": "display_data"
    }
   ],
   "source": [
    "#Results on the Training Set\n",
    "print(w,b)\n",
    "\n",
    "for i in range(6):\n",
    "    for j in range(i+1,6):\n",
    "        print(i,j)\n",
    "        plt.title(names[i] + \" vs. \" + names[j])\n",
    "        plt.xlabel(names[i])\n",
    "        plt.ylabel(names[j])\n",
    "        decision_bound=-w[i]/w[j]*data[:,i]-b/w[j]\n",
    "        plt.plot(data[:,i], decision_bound, label=\"Decision Bound\")\n",
    "        plt.scatter(data[:,i], data[:,j], c=data[:,6], alpha=0.5, label=\"Data\")\n",
    "        plt.savefig(\"images/\"+\"bound_\"+ names[i] + \" vs. \" + names[j]+\".png\")\n",
    "        plt.clf()\n",
    "        #plt.show()"
   ]
  },
  {
   "cell_type": "code",
   "execution_count": 8,
   "metadata": {},
   "outputs": [
    {
     "name": "stdout",
     "output_type": "stream",
     "text": [
      "[[  1.           0.          47.           5.           0.\n",
      "  308.81327825]]\n",
      "Random Guess:  [20.87338058]\n",
      "[ 5. 15. 25. 35. 45. 55. 65. 75. 85. 95.]\n",
      "Educated Guess:  [1.31364633]\n"
     ]
    },
    {
     "data": {
      "text/plain": [
       "<Figure size 432x288 with 0 Axes>"
      ]
     },
     "metadata": {},
     "output_type": "display_data"
    }
   ],
   "source": [
    "#Guess a Survival Probability\n",
    "guess_data=np.zeros((1,6))\n",
    "\n",
    "for i in range(5):\n",
    "    guess_data[0][i]=np.random.randint(data[:,i].min(), data[:,i].max())\n",
    "\n",
    "guess_data[0][5]=(data[:,5].max()-data[:,5].min())*np.random.rand()+data[:,5].min()\n",
    "print(guess_data)\n",
    "\n",
    "prob_guess=logreg_inference(guess_data,w,b)\n",
    "print(\"Random Guess: \", prob_guess*100)\n",
    "\n",
    "#Educated Guess\n",
    "\n",
    "guess_data[0][0]=1\n",
    "guess_data[0][1]=1\n",
    "edn=int(1e5)\n",
    "ed_g=np.zeros(edn)\n",
    "ed_d=np.zeros(edn)\n",
    "\n",
    "for i in range(edn):\n",
    "    guess_data[0][0]=1\n",
    "    guess_data[0][1]=1\n",
    "    for j in range(2,5):\n",
    "        guess_data[0][j]=np.random.randint(data[:,j].min(), data[:,j].max())\n",
    "    guess_data[0][3]=1\n",
    "    ed_g[i]=logreg_inference(guess_data,w,b)\n",
    "    guess_data[0][0]=3\n",
    "    guess_data[0][1]=0\n",
    "    guess_data[0][3]=8\n",
    "    ed_d[i]=logreg_inference(guess_data,w,b)\n",
    "\n",
    "bins=np.zeros(10)\n",
    "bind=np.zeros(10)\n",
    "for i in range(edn):\n",
    "    for j in range(10):\n",
    "        if ed_g[i]*100<(j+1)*10 and ed_g[i]*100>j*10:\n",
    "            bins[j]+=1\n",
    "        if ed_d[i]*100<(j+1)*10 and ed_d[i]*100>j*10:\n",
    "            bind[j]+=1\n",
    "\n",
    "pl=np.zeros(10)\n",
    "for i in range(10):\n",
    "    pl[i]=(10*i+5)\n",
    "print(pl)\n",
    "plt.bar(pl,bins/bins.sum(), width=8, label=\"Women, Alone, 1 Class\")\n",
    "plt.bar(pl,bind/bind.sum(), width=8, label=\"Man, Not Alone, 3 Class\")\n",
    "plt.title(str(edn)+ \" Educated Guesses\")\n",
    "plt.legend()\n",
    "plt.grid()\n",
    "plt.xticks(list(pl), pl)\n",
    "plt.savefig(\"images/\"+\"ed_guess\")\n",
    "plt.clf()\n",
    "#plt.show()\n",
    "prob_guess=logreg_inference(guess_data,w,b)\n",
    "print(\"Educated Guess: \",prob_guess*100)"
   ]
  },
  {
   "cell_type": "code",
   "execution_count": 9,
   "metadata": {
    "scrolled": true
   },
   "outputs": [
    {
     "name": "stdout",
     "output_type": "stream",
     "text": [
      "Test Accuracy:  79.09604519774011\n",
      "0 1\n",
      "0 2\n",
      "0 3\n",
      "0 4\n",
      "0 5\n",
      "1 2\n",
      "1 3\n",
      "1 4\n",
      "1 5\n",
      "2 3\n",
      "2 4\n",
      "2 5\n",
      "3 4\n",
      "3 5\n",
      "4 5\n"
     ]
    },
    {
     "data": {
      "text/plain": [
       "<Figure size 432x288 with 0 Axes>"
      ]
     },
     "metadata": {},
     "output_type": "display_data"
    }
   ],
   "source": [
    "#Evaluate the model on test data\n",
    "p=logreg_inference(x_t,w,b)\n",
    "predictions=(p>0.5)\n",
    "accuracy=(predictions==y_t).mean()\n",
    "print(\"Test Accuracy: \", accuracy*100)\n",
    "\n",
    "for i in range(6):\n",
    "    for j in range(i+1,6):\n",
    "        print(i,j)\n",
    "        plt.title(names[i] + \" vs. \" + names[j])\n",
    "        plt.xlabel(names[i])\n",
    "        plt.ylabel(names[j])\n",
    "        decision_bound=-w[i]/w[j]*test_data[:,i]-b/w[j]\n",
    "        plt.plot(test_data[:,i], decision_bound, label=\"Decision Bound\")\n",
    "        plt.scatter(test_data[:,i], test_data[:,j], c=test_data[:,6], alpha=0.5, label=\"Data\")\n",
    "        plt.savefig(\"images/\"+\"test_bound_\"+names[i] + \" vs. \" + names[j]+\".png\")\n",
    "        plt.clf()\n",
    "        #plt.show()"
   ]
  },
  {
   "cell_type": "code",
   "execution_count": null,
   "metadata": {},
   "outputs": [],
   "source": []
  },
  {
   "cell_type": "code",
   "execution_count": null,
   "metadata": {},
   "outputs": [],
   "source": []
  },
  {
   "cell_type": "code",
   "execution_count": null,
   "metadata": {},
   "outputs": [],
   "source": []
  }
 ],
 "metadata": {
  "kernelspec": {
   "display_name": "Python 3",
   "language": "python",
   "name": "python3"
  },
  "language_info": {
   "codemirror_mode": {
    "name": "ipython",
    "version": 3
   },
   "file_extension": ".py",
   "mimetype": "text/x-python",
   "name": "python",
   "nbconvert_exporter": "python",
   "pygments_lexer": "ipython3",
   "version": "3.7.6"
  }
 },
 "nbformat": 4,
 "nbformat_minor": 4
}
